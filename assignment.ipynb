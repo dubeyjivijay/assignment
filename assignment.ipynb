{
 "cells": [
  {
   "cell_type": "markdown",
   "id": "db7aa7ff-ae19-4a06-b5b4-be6f0db61a3b",
   "metadata": {},
   "source": [
    "Answer 1-\n",
    "\n",
    "We use for loop for iterating in a sequence that is already known.\n",
    "for Example \n",
    "list=[34,56,76,78,65,43,23,45,78,90,65]\n",
    "in this list \n",
    "if i want exaract data from list, then we need to do work on \" index\" .\n",
    "like \n",
    "print(list[0])\n",
    "print(list[1])\n",
    "print(list[2])\n",
    "print(list[3])\n",
    "print(list[4])\n",
    "print(list[5])\n",
    "print(list[6])\n",
    "print(list[7])\n",
    "print(list[8])\n",
    "print(list[9])\n",
    "print(list[10])\n",
    "simpli by using \"for loop\" we can extract data just a simple code\n",
    "like \n",
    "for i in list:\n",
    "    print(i)\n",
    " the output will be same.\n",
    "\n",
    "\n",
    "While we use \"while loop \" for itarsting sequence that is unknown.\n",
    "for Examle :\n",
    "program to display numbers from 1 to 5\n",
    "\n",
    " initialize the variable\n",
    "i = 1\n",
    "n = 5\n",
    "\n",
    "# while loop from i = 1 to 5\n",
    "while i <= n:\n",
    "    print(i)\n",
    "    i = i + 1"
   ]
  },
  {
   "cell_type": "markdown",
   "id": "c08748da-0fb5-4d87-9560-5dad931693b2",
   "metadata": {},
   "source": [
    "\n",
    "\n",
    "Answer 2 \n",
    "the sum and product of ten netural number by using for loop \n",
    "sum=0\n",
    "product=1\n",
    "\n",
    "for i in range(1,11):\n",
    "    sum=sum+i\n",
    "    product=product*i\n",
    "print(sum)\n",
    "print(product)\n",
    "the sum and product of ten netural number by using for while loop\n"
   ]
  },
  {
   "cell_type": "markdown",
   "id": "4b99d7da-3596-4dc6-afde-b227439c76c5",
   "metadata": {},
   "source": [
    "answer 3 \n",
    "unit=int(input())\n",
    "if unit <= 100:\n",
    "    bill=unit*4.5\n",
    "    print(bill)\n",
    "    \n",
    "elif unit>100:\n",
    "    bill=450+((unit-100)*6)\n",
    "    print(bill)\n",
    "    \n",
    "elif unit>200:\n",
    "    bill=450+600+((unit-200)*10)\n",
    "    print(bill)\n",
    "elif unit>300:\n",
    "    bill=450+600+1000+((unit-300)*20)\n",
    "    print(bill)\n",
    "note Input is 310\n",
    "output is 1650\n",
    "as per condition \n"
   ]
  },
  {
   "cell_type": "markdown",
   "id": "2c84b2b5-e693-43a2-b368-54331cb27872",
   "metadata": {},
   "source": [
    "answer 4\n",
    "here a list of  1 to 100 has been created\n",
    "\n",
    "\n",
    "new_list=list(range(1,101))\n",
    "print(new_list)\n",
    "result=[]\n",
    "for i in new_list:\n",
    "    result.append(i**3)\n",
    "print(result)\n",
    "\n",
    "\n"
   ]
  },
  {
   "cell_type": "code",
   "execution_count": null,
   "id": "f5e0e0c7-39c8-415e-8731-af6e064f2c18",
   "metadata": {},
   "outputs": [],
   "source": []
  }
 ],
 "metadata": {
  "kernelspec": {
   "display_name": "Python 3 (ipykernel)",
   "language": "python",
   "name": "python3"
  },
  "language_info": {
   "codemirror_mode": {
    "name": "ipython",
    "version": 3
   },
   "file_extension": ".py",
   "mimetype": "text/x-python",
   "name": "python",
   "nbconvert_exporter": "python",
   "pygments_lexer": "ipython3",
   "version": "3.10.8"
  }
 },
 "nbformat": 4,
 "nbformat_minor": 5
}
